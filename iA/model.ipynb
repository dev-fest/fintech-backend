{
 "cells": [
  {
   "cell_type": "code",
   "execution_count": 1,
   "metadata": {},
   "outputs": [
    {
     "name": "stdout",
     "output_type": "stream",
     "text": [
      "   id    debt_type  principal  interest_rate maturity_date payment_due_date  \\\n",
      "0   1         loan      50000          0.050    2025-12-31       2024-12-01   \n",
      "1   2         bond      30000          0.030    2026-12-31       2024-11-15   \n",
      "2   3     mortgage     200000          0.040    2035-01-01       2024-12-20   \n",
      "3   4  credit line      10000          0.060    2025-06-30       2024-10-15   \n",
      "4   5         loan      80000          0.045    2027-06-30       2024-12-10   \n",
      "\n",
      "   amount_paid  outstanding_balance                           description  \n",
      "0        10000                40000      Bank loan for equipment purchase  \n",
      "1         5000                25000         Corporate bond issued in 2024  \n",
      "2        15000               185000          Mortgage for office building  \n",
      "3         2000                 8000  Credit line for operational expenses  \n",
      "4        12000                68000            Loan for company expansion  \n"
     ]
    }
   ],
   "source": [
    "import pandas as pd\n",
    "\n",
    "# Chemin vers votre fichier JSON\n",
    "json_file_path = 'fichier.json'\n",
    "\n",
    "# Charger les données depuis le fichier JSON dans un DataFrame pandas\n",
    "df = pd.read_json(json_file_path)\n",
    "\n",
    "# Afficher les premières lignes du DataFrame\n",
    "print(df.head())\n"
   ]
  },
  {
   "cell_type": "code",
   "execution_count": 26,
   "metadata": {},
   "outputs": [
    {
     "name": "stdout",
     "output_type": "stream",
     "text": [
      "Nombre d'entrées après augmentation : 8008\n",
      "      id  debt_type  principal  interest_rate        maturity_date  \\\n",
      "0      1       0.10      50000       0.050000           2025-12-31   \n",
      "1      2       0.12      30000       0.030000           2026-12-31   \n",
      "2      3       0.13     200000       0.040000           2035-01-01   \n",
      "3      4       0.14      10000       0.060000           2025-06-30   \n",
      "4      5       0.10      80000       0.045000           2027-06-30   \n",
      "...   ..        ...        ...            ...                  ...   \n",
      "8003   9       0.14      10783       0.063216  2026-08-01 00:00:00   \n",
      "8004   9       0.15      16757       0.048062  2026-12-15 00:00:00   \n",
      "8005   9       0.11      16818       0.051555  2026-07-27 00:00:00   \n",
      "8006   9       0.11      16857       0.055988  2026-06-14 00:00:00   \n",
      "8007   9       0.12      16849       0.052529  2026-01-31 00:00:00   \n",
      "\n",
      "         payment_due_date  amount_paid  outstanding_balance  \\\n",
      "0              2024-12-01        10000                40000   \n",
      "1              2024-11-15         5000                25000   \n",
      "2              2024-12-20        15000               185000   \n",
      "3              2024-10-15         2000                 8000   \n",
      "4              2024-12-10        12000                68000   \n",
      "...                   ...          ...                  ...   \n",
      "8003  2024-12-06 00:00:00         4614                11651   \n",
      "8004  2024-12-07 00:00:00         2206                12066   \n",
      "8005  2024-11-25 00:00:00         1919                11943   \n",
      "8006  2024-12-04 00:00:00         2804                10004   \n",
      "8007  2024-12-10 00:00:00         4655                10718   \n",
      "\n",
      "                                            description  \n",
      "0                      Bank loan for equipment purchase  \n",
      "1                         Corporate bond issued in 2024  \n",
      "2                          Mortgage for office building  \n",
      "3                  Credit line for operational expenses  \n",
      "4                            Loan for company expansion  \n",
      "...                                                 ...  \n",
      "8003  Augmented: Extended credit line for seasonal o...  \n",
      "8004  Augmented: Extended credit line for seasonal o...  \n",
      "8005  Augmented: Extended credit line for seasonal o...  \n",
      "8006  Augmented: Extended credit line for seasonal o...  \n",
      "8007  Augmented: Extended credit line for seasonal o...  \n",
      "\n",
      "[8008 rows x 9 columns]\n"
     ]
    }
   ],
   "source": [
    "import pandas as pd\n",
    "import numpy as np\n",
    "\n",
    "# Chargement des données de la table Debt\n",
    "data = {\n",
    "    \"id\": [1, 2, 3, 4, 5, 6, 7, 8],\n",
    "    \"debt_type\": ['loan', 'bond', 'mortgage', 'credit line', 'loan', 'bond', 'loan', 'credit line'],\n",
    "    \"principal\": [50000, 30000, 200000, 10000, 80000, 50000, 25000, 15000],\n",
    "    \"interest_rate\": [0.05, 0.03, 0.04, 0.06, 0.045, 0.025, 0.06, 0.055],\n",
    "    \"maturity_date\": ['2025-12-31', '2026-12-31', '2035-01-01', '2025-06-30', '2027-06-30', '2026-09-15', '2028-03-31', '2025-12-31'],\n",
    "    \"payment_due_date\": ['2024-12-01', '2024-11-15', '2024-12-20', '2024-10-15', '2024-12-10', '2024-11-30', '2024-12-05', '2024-11-25'],\n",
    "    \"amount_paid\": [10000, 5000, 15000, 2000, 12000, 7000, 5000, 3000],\n",
    "    \"outstanding_balance\": [40000, 25000, 185000, 8000, 68000, 43000, 20000, 12000],\n",
    "    \"description\": [\n",
    "        'Bank loan for equipment purchase',\n",
    "        'Corporate bond issued in 2024',\n",
    "        'Mortgage for office building',\n",
    "        'Credit line for operational expenses',\n",
    "        'Loan for company expansion',\n",
    "        'Government bond issued in 2023',\n",
    "        'Short-term loan for working capital',\n",
    "        'Extended credit line for seasonal operations'\n",
    "    ]\n",
    "}\n",
    "\n",
    "df = pd.DataFrame(data)\n",
    "\n",
    "# Nombre d'augmentations par enregistrement\n",
    "N = 1000  # Changez ce nombre selon vos besoins\n",
    "\n",
    "# Augmentation des données\n",
    "augmented_data = []\n",
    "\n",
    "for index, row in df.iterrows():\n",
    "    for _ in range(N):  # Créer N augmentations pour chaque enregistrement\n",
    "        new_row = row.copy()\n",
    "        new_row['id'] = df['id'].max() + 1  # nouvel ID\n",
    "        new_row['principal'] += np.random.randint(-5000, 5000)  # variation aléatoire\n",
    "        new_row['amount_paid'] += np.random.randint(-2000, 2000)\n",
    "        new_row['outstanding_balance'] += np.random.randint(-2000, 2000)\n",
    "        \n",
    "        # Changer le type de dette\n",
    "        new_row['debt_type'] = np.random.choice(['loan', 'bond', 'mortgage', 'credit line', 'personal loan', 'auto loan'])\n",
    "        \n",
    "        # Modifier le taux d'intérêt\n",
    "        new_row['interest_rate'] += np.random.uniform(-0.01, 0.01)  # variation aléatoire du taux d'intérêt\n",
    "        \n",
    "        # Modifier les dates\n",
    "        new_row['maturity_date'] = pd.to_datetime(row['maturity_date']) + pd.DateOffset(days=np.random.randint(0, 365))\n",
    "        new_row['payment_due_date'] = pd.to_datetime(row['payment_due_date']) + pd.DateOffset(days=np.random.randint(0, 30))\n",
    "        \n",
    "        # Modifier la description\n",
    "        new_row['description'] = f\"Augmented: {row['description']}\"\n",
    "        \n",
    "        augmented_data.append(new_row)\n",
    "\n",
    "# Créer un DataFrame pour les nouvelles données\n",
    "augmented_df = pd.DataFrame(augmented_data)\n",
    "\n",
    "# Combiner les données originales et augmentées\n",
    "combined_df = pd.concat([df, augmented_df], ignore_index=True)\n",
    "# Dictionnaire de mapping pour les types de dette\n",
    "debt_type_mapping = {\n",
    "    'loan': 0.1,\n",
    "    'bond': 0.12,\n",
    "    'mortgage': 0.13,\n",
    "    'credit line': 0.14,\n",
    "    'personal loan': 0.15,\n",
    "    'auto loan': 0.11\n",
    "}\n",
    "\n",
    "# Numériser la colonne 'debt_type' dans le DataFrame\n",
    "combined_df['debt_type'] = combined_df['debt_type'].replace(debt_type_mapping)\n",
    "\n",
    "print(f\"Nombre d'entrées après augmentation : {len(combined_df)}\")\n",
    "print(combined_df)\n"
   ]
  },
  {
   "cell_type": "code",
   "execution_count": 27,
   "metadata": {},
   "outputs": [
    {
     "name": "stdout",
     "output_type": "stream",
     "text": [
      "[[-0.13020154  0.32051947  0.59390611 -0.18697617 -1.47747701]\n",
      " [-0.47520279 -1.14304634 -0.53894377 -0.46400425 -0.30504121]\n",
      " [ 2.45730785 -0.41126343  1.72675599  2.49096198  0.28117669]\n",
      " [-0.82020404  1.05230238 -1.21865369 -0.77796942  0.86739459]\n",
      " [ 0.38730034 -0.04537198  1.04704606  0.33014292 -1.47747701]]\n"
     ]
    }
   ],
   "source": [
    "from sklearn.preprocessing import StandardScaler\n",
    "\n",
    "# Sélectionner les colonnes numériques à utiliser pour le clustering et la classification\n",
    "features = ['principal', 'interest_rate', 'amount_paid', 'outstanding_balance','debt_type']\n",
    "\n",
    "# Standardiser les données\n",
    "scaler = StandardScaler()\n",
    "X = scaler.fit_transform(combined_df[features])\n",
    "\n",
    "print(X[:5])  # Afficher les premières lignes des données standardisées"
   ]
  },
  {
   "cell_type": "code",
   "execution_count": 28,
   "metadata": {},
   "outputs": [
    {
     "name": "stderr",
     "output_type": "stream",
     "text": [
      "c:\\ProgramData\\anaconda3\\Lib\\site-packages\\sklearn\\cluster\\_kmeans.py:1412: FutureWarning: The default value of `n_init` will change from 10 to 'auto' in 1.4. Set the value of `n_init` explicitly to suppress the warning\n",
      "  super()._check_params_vs_input(X, default_n_init=10)\n"
     ]
    },
    {
     "name": "stdout",
     "output_type": "stream",
     "text": [
      "   id  cluster\n",
      "0   1        3\n",
      "1   2        2\n",
      "2   3        1\n",
      "3   4        0\n",
      "4   5        3\n"
     ]
    }
   ],
   "source": [
    "from sklearn.cluster import KMeans\n",
    "\n",
    "# Appliquer K-means avec un nombre de clusters (exemple : 3)\n",
    "kmeans = KMeans(n_clusters=5, random_state=42)\n",
    "combined_df['cluster'] = kmeans.fit_predict(X)\n",
    "\n",
    "print(combined_df[['id', 'cluster']].head())  # Afficher les clusters assignés"
   ]
  },
  {
   "cell_type": "code",
   "execution_count": 29,
   "metadata": {},
   "outputs": [
    {
     "name": "stdout",
     "output_type": "stream",
     "text": [
      "Accuracy: 0.9956304619225967\n",
      "Classification Report:\n",
      "               precision    recall  f1-score   support\n",
      "\n",
      "           0       1.00      0.99      0.99       292\n",
      "           1       1.00      1.00      1.00       197\n",
      "           2       0.99      1.00      0.99       416\n",
      "           3       1.00      1.00      1.00       383\n",
      "           4       1.00      0.99      1.00       314\n",
      "\n",
      "    accuracy                           1.00      1602\n",
      "   macro avg       1.00      1.00      1.00      1602\n",
      "weighted avg       1.00      1.00      1.00      1602\n",
      "\n"
     ]
    }
   ],
   "source": [
    "from sklearn.model_selection import train_test_split\n",
    "from sklearn.neighbors import KNeighborsClassifier\n",
    "from sklearn.metrics import accuracy_score, classification_report\n",
    "\n",
    "# Séparer les données en train/test\n",
    "X_train, X_test, y_train, y_test = train_test_split(X, combined_df['cluster'], test_size=0.2, random_state=42)\n",
    "\n",
    "# Entraîner le modèle K-NN avec K=5 voisins\n",
    "knn = KNeighborsClassifier(n_neighbors=5)\n",
    "knn.fit(X_train, y_train)\n",
    "\n",
    "# Prédire les clusters sur les données de test\n",
    "y_pred = knn.predict(X_test)\n",
    "\n",
    "# Évaluer le modèle\n",
    "print(\"Accuracy:\", accuracy_score(y_test, y_pred))\n",
    "print(\"Classification Report:\\n\", classification_report(y_test, y_pred))"
   ]
  },
  {
   "cell_type": "code",
   "execution_count": 39,
   "metadata": {},
   "outputs": [
    {
     "name": "stdout",
     "output_type": "stream",
     "text": [
      "Cluster prédit: 2\n"
     ]
    },
    {
     "name": "stderr",
     "output_type": "stream",
     "text": [
      "c:\\ProgramData\\anaconda3\\Lib\\site-packages\\sklearn\\base.py:464: UserWarning: X does not have valid feature names, but StandardScaler was fitted with feature names\n",
      "  warnings.warn(\n"
     ]
    }
   ],
   "source": [
    "# Nouvelle donnée à classer : principal = 60000, interest_rate = 0.04, amount_paid = 5000, outstanding_balance = 55000\n",
    "new_debt = [[60000, 0.04, 5000, 55000,0.1]]\n",
    "\n",
    "# Normaliser la nouvelle donnée avec le scaler précédent\n",
    "new_debt_scaled = scaler.transform(new_debt)\n",
    "\n",
    "# Prédire le cluster de la nouvelle donnée\n",
    "predicted_cluster = knn.predict(new_debt_scaled)\n",
    "print(\"Cluster prédit:\", predicted_cluster[0])"
   ]
  },
  {
   "cell_type": "code",
   "execution_count": 37,
   "metadata": {},
   "outputs": [
    {
     "data": {
      "image/png": "[encoded data removed]",
      "text/plain": [
       "<Figure size 640x480 with 1 Axes>"
      ]
     },
     "metadata": {},
     "output_type": "display_data"
    }
   ],
   "source": [
    "import matplotlib.pyplot as plt\n",
    "\n",
    "# Réduction des dimensions pour la visualisation\n",
    "from sklearn.decomposition import PCA\n",
    "\n",
    "pca = PCA(n_components=2)\n",
    "X_pca = pca.fit_transform(X)\n",
    "\n",
    "# Affichage des clusters\n",
    "plt.scatter(X_pca[:, 0], X_pca[:, 1], c=combined_df['cluster'], cmap='viridis')\n",
    "plt.title('Clusters des Dettes (K-means)')\n",
    "plt.xlabel('PCA Component 1')\n",
    "plt.ylabel('PCA Component 2')\n",
    "plt.show()"
   ]
  },
  {
   "cell_type": "code",
   "execution_count": 40,
   "metadata": {},
   "outputs": [],
   "source": [
    "# Par exemple, nous allons prédire l'outstanding_balance\n",
    "X = combined_df[['debt_type', 'principal', 'interest_rate', 'amount_paid']]  # Caractéristiques\n",
    "y = combined_df['outstanding_balance']  # Objectif\n"
   ]
  },
  {
   "cell_type": "code",
   "execution_count": 41,
   "metadata": {},
   "outputs": [],
   "source": [
    "from sklearn.model_selection import train_test_split\n",
    "\n",
    "# Diviser les données en ensemble d'entraînement et de test\n",
    "X_train, X_test, y_train, y_test = train_test_split(X, y, test_size=0.2, random_state=42)\n"
   ]
  },
  {
   "cell_type": "code",
   "execution_count": 42,
   "metadata": {},
   "outputs": [],
   "source": [
    "from sklearn.preprocessing import StandardScaler\n",
    "\n",
    "# Initialiser le scaler\n",
    "scaler = StandardScaler()\n",
    "\n",
    "# Ajuster le scaler sur l'ensemble d'entraînement et transformer les ensembles\n",
    "X_train_scaled = scaler.fit_transform(X_train)\n",
    "X_test_scaled = scaler.transform(X_test)\n"
   ]
  },
  {
   "cell_type": "code",
   "execution_count": 43,
   "metadata": {},
   "outputs": [
    {
     "data": {
      "text/html": [
       "<style>#sk-container-id-1 {color: black;}#sk-container-id-1 pre{padding: 0;}#sk-container-id-1 div.sk-toggleable {background-color: white;}#sk-container-id-1 label.sk-toggleable__label {cursor: pointer;display: block;width: 100%;margin-bottom: 0;padding: 0.3em;box-sizing: border-box;text-align: center;}#sk-container-id-1 label.sk-toggleable__label-arrow:before {content: \"▸\";float: left;margin-right: 0.25em;color: #696969;}#sk-container-id-1 label.sk-toggleable__label-arrow:hover:before {color: black;}#sk-container-id-1 div.sk-estimator:hover label.sk-toggleable__label-arrow:before {color: black;}#sk-container-id-1 div.sk-toggleable__content {max-height: 0;max-width: 0;overflow: hidden;text-align: left;background-color: #f0f8ff;}#sk-container-id-1 div.sk-toggleable__content pre {margin: 0.2em;color: black;border-radius: 0.25em;background-color: #f0f8ff;}#sk-container-id-1 input.sk-toggleable__control:checked~div.sk-toggleable__content {max-height: 200px;max-width: 100%;overflow: auto;}#sk-container-id-1 input.sk-toggleable__control:checked~label.sk-toggleable__label-arrow:before {content: \"▾\";}#sk-container-id-1 div.sk-estimator input.sk-toggleable__control:checked~label.sk-toggleable__label {background-color: #d4ebff;}#sk-container-id-1 div.sk-label input.sk-toggleable__control:checked~label.sk-toggleable__label {background-color: #d4ebff;}#sk-container-id-1 input.sk-hidden--visually {border: 0;clip: rect(1px 1px 1px 1px);clip: rect(1px, 1px, 1px, 1px);height: 1px;margin: -1px;overflow: hidden;padding: 0;position: absolute;width: 1px;}#sk-container-id-1 div.sk-estimator {font-family: monospace;background-color: #f0f8ff;border: 1px dotted black;border-radius: 0.25em;box-sizing: border-box;margin-bottom: 0.5em;}#sk-container-id-1 div.sk-estimator:hover {background-color: #d4ebff;}#sk-container-id-1 div.sk-parallel-item::after {content: \"\";width: 100%;border-bottom: 1px solid gray;flex-grow: 1;}#sk-container-id-1 div.sk-label:hover label.sk-toggleable__label {background-color: #d4ebff;}#sk-container-id-1 div.sk-serial::before {content: \"\";position: absolute;border-left: 1px solid gray;box-sizing: border-box;top: 0;bottom: 0;left: 50%;z-index: 0;}#sk-container-id-1 div.sk-serial {display: flex;flex-direction: column;align-items: center;background-color: white;padding-right: 0.2em;padding-left: 0.2em;position: relative;}#sk-container-id-1 div.sk-item {position: relative;z-index: 1;}#sk-container-id-1 div.sk-parallel {display: flex;align-items: stretch;justify-content: center;background-color: white;position: relative;}#sk-container-id-1 div.sk-item::before, #sk-container-id-1 div.sk-parallel-item::before {content: \"\";position: absolute;border-left: 1px solid gray;box-sizing: border-box;top: 0;bottom: 0;left: 50%;z-index: -1;}#sk-container-id-1 div.sk-parallel-item {display: flex;flex-direction: column;z-index: 1;position: relative;background-color: white;}#sk-container-id-1 div.sk-parallel-item:first-child::after {align-self: flex-end;width: 50%;}#sk-container-id-1 div.sk-parallel-item:last-child::after {align-self: flex-start;width: 50%;}#sk-container-id-1 div.sk-parallel-item:only-child::after {width: 0;}#sk-container-id-1 div.sk-dashed-wrapped {border: 1px dashed gray;margin: 0 0.4em 0.5em 0.4em;box-sizing: border-box;padding-bottom: 0.4em;background-color: white;}#sk-container-id-1 div.sk-label label {font-family: monospace;font-weight: bold;display: inline-block;line-height: 1.2em;}#sk-container-id-1 div.sk-label-container {text-align: center;}#sk-container-id-1 div.sk-container {/* jupyter's `normalize.less` sets `[hidden] { display: none; }` but bootstrap.min.css set `[hidden] { display: none !important; }` so we also need the `!important` here to be able to override the default hidden behavior on the sphinx rendered scikit-learn.org. See: https://github.com/scikit-learn/scikit-learn/issues/21755 */display: inline-block !important;position: relative;}#sk-container-id-1 div.sk-text-repr-fallback {display: none;}</style><div id=\"sk-container-id-1\" class=\"sk-top-container\"><div class=\"sk-text-repr-fallback\"><pre>LinearRegression()</pre><b>In a Jupyter environment, please rerun this cell to show the HTML representation or trust the notebook. <br />On GitHub, the HTML representation is unable to render, please try loading this page with nbviewer.org.</b></div><div class=\"sk-container\" hidden><div class=\"sk-item\"><div class=\"sk-estimator sk-toggleable\"><input class=\"sk-toggleable__control sk-hidden--visually\" id=\"sk-estimator-id-1\" type=\"checkbox\" checked><label for=\"sk-estimator-id-1\" class=\"sk-toggleable__label sk-toggleable__label-arrow\">LinearRegression</label><div class=\"sk-toggleable__content\"><pre>LinearRegression()</pre></div></div></div></div></div>"
      ],
      "text/plain": [
       "LinearRegression()"
      ]
     },
     "execution_count": 43,
     "metadata": {},
     "output_type": "execute_result"
    }
   ],
   "source": [
    "from sklearn.linear_model import LinearRegression\n",
    "\n",
    "# Initialiser le modèle\n",
    "model = LinearRegression()\n",
    "\n",
    "# Entraîner le modèle\n",
    "model.fit(X_train_scaled, y_train)\n"
   ]
  },
  {
   "cell_type": "code",
   "execution_count": 44,
   "metadata": {},
   "outputs": [
    {
     "name": "stdout",
     "output_type": "stream",
     "text": [
      "Mean Squared Error: 10452454.92\n",
      "R² Score: 1.00\n"
     ]
    }
   ],
   "source": [
    "from sklearn.metrics import mean_squared_error, r2_score\n",
    "\n",
    "# Prédire avec l'ensemble de test\n",
    "y_pred = model.predict(X_test_scaled)\n",
    "\n",
    "# Évaluer la performance\n",
    "mse = mean_squared_error(y_test, y_pred)\n",
    "r2 = r2_score(y_test, y_pred)\n",
    "\n",
    "print(f\"Mean Squared Error: {mse:.2f}\")\n",
    "print(f\"R² Score: {r2:.2f}\")\n"
   ]
  },
  {
   "cell_type": "code",
   "execution_count": 45,
   "metadata": {},
   "outputs": [
    {
     "name": "stdout",
     "output_type": "stream",
     "text": [
      "Predicted Outstanding Balance: 43716.91\n"
     ]
    }
   ],
   "source": [
    "# Exemple de nouvelles données\n",
    "new_data = pd.DataFrame({\n",
    "    'debt_type': [1],  # Utiliser la version numérisée\n",
    "    'principal': [60000],\n",
    "    'interest_rate': [0.05],\n",
    "    'amount_paid': [20000]\n",
    "})\n",
    "\n",
    "# Normaliser les nouvelles données\n",
    "new_data_scaled = scaler.transform(new_data)\n",
    "\n",
    "# Prédire l'outstanding_balance\n",
    "predicted_balance = model.predict(new_data_scaled)\n",
    "print(f\"Predicted Outstanding Balance: {predicted_balance[0]:.2f}\")\n"
   ]
  }
 ],
 "metadata": {
  "kernelspec": {
   "display_name": "base",
   "language": "python",
   "name": "python3"
  },
  "language_info": {
   "codemirror_mode": {
    "name": "ipython",
    "version": 3
   },
   "file_extension": ".py",
   "mimetype": "text/x-python",
   "name": "python",
   "nbconvert_exporter": "python",
   "pygments_lexer": "ipython3",
   "version": "3.11.5"
  }
 },
 "nbformat": 4,
 "nbformat_minor": 2
}
